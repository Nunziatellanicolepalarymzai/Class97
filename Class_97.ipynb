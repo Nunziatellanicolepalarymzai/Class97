{
  "nbformat": 4,
  "nbformat_minor": 0,
  "metadata": {
    "colab": {
      "name": "Class 97.ipynb",
      "provenance": [],
      "authorship_tag": "ABX9TyM5e4IdNMr87t7C8s2A+0OW",
      "include_colab_link": true
    },
    "kernelspec": {
      "name": "python3",
      "display_name": "Python 3"
    },
    "language_info": {
      "name": "python"
    }
  },
  "cells": [
    {
      "cell_type": "markdown",
      "metadata": {
        "id": "view-in-github",
        "colab_type": "text"
      },
      "source": [
        "<a href=\"https://colab.research.google.com/github/Nunziatellanicolepalarymzai/Class97/blob/main/Class_97.ipynb\" target=\"_parent\"><img src=\"https://colab.research.google.com/assets/colab-badge.svg\" alt=\"Open In Colab\"/></a>"
      ]
    },
    {
      "cell_type": "code",
      "metadata": {
        "id": "Rk912y2j-Re6"
      },
      "source": [
        ""
      ],
      "execution_count": null,
      "outputs": []
    },
    {
      "cell_type": "markdown",
      "metadata": {
        "id": "zTxWicKq-gk8"
      },
      "source": [
        "Welcome to Python "
      ]
    },
    {
      "cell_type": "code",
      "metadata": {
        "id": "KpsijcMhCGdP"
      },
      "source": [
        ""
      ],
      "execution_count": null,
      "outputs": []
    },
    {
      "cell_type": "code",
      "metadata": {
        "colab": {
          "base_uri": "https://localhost:8080/"
        },
        "id": "CmmmcjoQ-qPv",
        "outputId": "51646477-ae07-4fdc-c09a-c10b465a5b6b"
      },
      "source": [
        "print(\"hello\")\n",
        "#this is used to comment"
      ],
      "execution_count": null,
      "outputs": [
        {
          "output_type": "stream",
          "name": "stdout",
          "text": [
            "hello\n"
          ]
        }
      ]
    },
    {
      "cell_type": "code",
      "metadata": {
        "colab": {
          "base_uri": "https://localhost:8080/"
        },
        "id": "0aQVEaICA9Yr",
        "outputId": "929ec389-5cc3-4de0-ff26-45fa7a30aead"
      },
      "source": [
        "myName=\"Nunzia\"\n",
        "print(myName)\n",
        "print(type(myName))\n",
        "print(len(myName))\n",
        "print(myName.upper())"
      ],
      "execution_count": null,
      "outputs": [
        {
          "output_type": "stream",
          "name": "stdout",
          "text": [
            "Nunzia\n",
            "<class 'str'>\n",
            "6\n",
            "NUNZIA\n"
          ]
        }
      ]
    },
    {
      "cell_type": "code",
      "metadata": {
        "colab": {
          "base_uri": "https://localhost:8080/"
        },
        "id": "x_CKCqhOBqEP",
        "outputId": "31a908ce-789b-46f6-d283-afbee430f400"
      },
      "source": [
        "myGrade=8\n",
        "print(myGrade)\n",
        "print(type(myGrade))"
      ],
      "execution_count": null,
      "outputs": [
        {
          "output_type": "stream",
          "name": "stdout",
          "text": [
            "8\n",
            "<class 'int'>\n"
          ]
        }
      ]
    },
    {
      "cell_type": "code",
      "metadata": {
        "colab": {
          "base_uri": "https://localhost:8080/"
        },
        "id": "iV5y2ZnHCJqv",
        "outputId": "eda37867-4e38-468b-c5e1-4c8c0883319d"
      },
      "source": [
        "name=input('what is your name')\n",
        "print(name)\n",
        "\n",
        "greeting=\"hello\"\n",
        "print(greeting+name)"
      ],
      "execution_count": null,
      "outputs": [
        {
          "output_type": "stream",
          "name": "stdout",
          "text": [
            "what is your namenunzia\n",
            "nunzia\n",
            "hellonunzia\n"
          ]
        }
      ]
    },
    {
      "cell_type": "code",
      "metadata": {
        "colab": {
          "base_uri": "https://localhost:8080/"
        },
        "id": "d1P_wjDFCld2",
        "outputId": "525ed23e-f480-4094-c539-53e6e75e5080"
      },
      "source": [
        "mylist=[\"string\",12,0.8,True]\n",
        "print(mylist)\n",
        "print(mylist[0])\n",
        "print(mylist[1])"
      ],
      "execution_count": null,
      "outputs": [
        {
          "output_type": "stream",
          "name": "stdout",
          "text": [
            "['string', 12, 0.8, True]\n",
            "string\n",
            "12\n"
          ]
        }
      ]
    },
    {
      "cell_type": "markdown",
      "metadata": {
        "id": "Caq8KDoPEfGJ"
      },
      "source": [
        ""
      ]
    },
    {
      "cell_type": "code",
      "metadata": {
        "colab": {
          "base_uri": "https://localhost:8080/"
        },
        "id": "afkGNu7xDQuz",
        "outputId": "b6dc789c-a25b-4275-afa9-4b600ec6a4b8"
      },
      "source": [
        "print(mylist[1:])"
      ],
      "execution_count": null,
      "outputs": [
        {
          "output_type": "stream",
          "name": "stdout",
          "text": [
            "[12, 0.8, True]\n"
          ]
        }
      ]
    },
    {
      "cell_type": "code",
      "metadata": {
        "colab": {
          "base_uri": "https://localhost:8080/"
        },
        "id": "YRTFzgH1Dkzf",
        "outputId": "25dede75-8d3b-4990-c144-93d997b36d8c"
      },
      "source": [
        "print(mylist[2:])\n",
        "#it prints the elements at position 2 and after position 2"
      ],
      "execution_count": null,
      "outputs": [
        {
          "output_type": "stream",
          "name": "stdout",
          "text": [
            "[0.8, True]\n"
          ]
        }
      ]
    },
    {
      "cell_type": "code",
      "metadata": {
        "colab": {
          "base_uri": "https://localhost:8080/"
        },
        "id": "DjmTVz9aDuMT",
        "outputId": "5cfb57fe-bc81-426e-aae5-af1e98805e29"
      },
      "source": [
        "print(mylist[:2])\n",
        "#it prints the elements before 2 position "
      ],
      "execution_count": null,
      "outputs": [
        {
          "output_type": "stream",
          "name": "stdout",
          "text": [
            "['string', 12]\n"
          ]
        }
      ]
    },
    {
      "cell_type": "code",
      "metadata": {
        "colab": {
          "base_uri": "https://localhost:8080/"
        },
        "id": "JT-REsJIEOV-",
        "outputId": "a4fe8a13-9acd-40a3-e1ed-74a1eed62587"
      },
      "source": [
        "\n",
        "introduction =input(\"introduce yourself\")\n",
        "wordCount=1\n",
        "characterCount=0\n",
        "for i in introduction:\n",
        "  characterCount=characterCount+1\n",
        "  if i==' ':\n",
        "    wordCount=wordCount+1\n",
        "print(\"number of words in the string introduction= \",wordCount)\n",
        "print(\"number of character in the string introduction= \",characterCount)"
      ],
      "execution_count": null,
      "outputs": [
        {
          "output_type": "stream",
          "name": "stdout",
          "text": [
            "introduce yourselfmy name is nunzia\n",
            "number of words in the string introduction=  4\n",
            "number of character in the string introduction=  17\n"
          ]
        }
      ]
    },
    {
      "cell_type": "code",
      "metadata": {
        "id": "_ifuD18WGTC2"
      },
      "source": [
        ""
      ],
      "execution_count": null,
      "outputs": []
    },
    {
      "cell_type": "code",
      "metadata": {
        "id": "gc482ceXGHEL"
      },
      "source": [
        ""
      ],
      "execution_count": null,
      "outputs": []
    },
    {
      "cell_type": "code",
      "metadata": {
        "id": "c0gCY741D2Le"
      },
      "source": [
        ""
      ],
      "execution_count": null,
      "outputs": []
    }
  ]
}